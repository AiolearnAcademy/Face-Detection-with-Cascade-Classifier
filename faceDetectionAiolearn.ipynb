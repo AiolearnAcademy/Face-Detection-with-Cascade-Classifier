{
 "cells": [
  {
   "cell_type": "code",
   "execution_count": null,
   "metadata": {},
   "outputs": [],
   "source": [
    "from matplotlib import pyplot as plt\n",
    "import cv2\n",
    "\n",
    "image = cv2.imread(\"nima.jpg\")\n",
    "\n",
    "image = cv2.cvtColor(image, cv2.COLOR_BGR2RGB)\n",
    "\n",
    "model = cv2.CascadeClassifier(\"model.xml\")\n",
    "\n",
    "face = model.detectMultiScale(image)\n",
    "\n",
    "x = face[0][0]\n",
    "y = face[0][1]\n",
    "a = face[0][2]\n",
    "b = face[0][3]\n",
    "\n",
    "image = cv2.rectangle(image, (x,y), (x + a, y + b), (0,255,0), 3)\n",
    "\n",
    "plt.imshow(image)"
   ]
  }
 ],
 "metadata": {
  "language_info": {
   "name": "python"
  },
  "orig_nbformat": 4
 },
 "nbformat": 4,
 "nbformat_minor": 2
}
